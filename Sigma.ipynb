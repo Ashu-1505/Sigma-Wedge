{
 "cells": [
  {
   "cell_type": "code",
   "execution_count": 152,
   "id": "1f51b55e-0040-4fd6-883b-b9dda0e1ea87",
   "metadata": {},
   "outputs": [],
   "source": [
    "from quantrocket import get_prices"
   ]
  },
  {
   "cell_type": "code",
   "execution_count": 212,
   "id": "26f9defa-9064-4ae9-b1d8-a192ec8d7ad5",
   "metadata": {},
   "outputs": [],
   "source": [
    "start_date = '2023-01-01'\n",
    "end_date = '2023-12-31'\n",
    "prices = get_prices(\"usstock-free-1d\", universes=\"usstock-free\", start_date=start_date, end_date=end_date, fields=[\"Close\"])\n",
    "close_prices = prices['FIBBG000B9XRY4']"
   ]
  },
  {
   "cell_type": "code",
   "execution_count": 213,
   "id": "1c1ee01a-bc60-46db-bb75-e08f089142f0",
   "metadata": {
    "tags": []
   },
   "outputs": [
    {
     "name": "stdout",
     "output_type": "stream",
     "text": [
      "CLOSE PRICES:-\n",
      "Field  Date      \n",
      "Close  2023-01-03    124.2163\n",
      "       2023-01-04    125.4975\n",
      "       2023-01-05    124.1666\n",
      "       2023-01-06    128.7352\n",
      "       2023-01-09    129.2616\n",
      "                       ...   \n",
      "       2023-12-22    193.3533\n",
      "       2023-12-26    192.8040\n",
      "       2023-12-27    192.9038\n",
      "       2023-12-28    193.3333\n",
      "       2023-12-29    192.2846\n",
      "Name: FIBBG000B9XRY4, Length: 250, dtype: float64\n"
     ]
    }
   ],
   "source": [
    "print(\"CLOSE PRICES:-\")\n",
    "print(close_prices)"
   ]
  },
  {
   "cell_type": "code",
   "execution_count": 214,
   "id": "08e61425-9bf5-4448-a153-d3e30da0fd3e",
   "metadata": {
    "tags": []
   },
   "outputs": [],
   "source": [
    "n=len(close_prices)"
   ]
  },
  {
   "cell_type": "code",
   "execution_count": 215,
   "id": "5cbe8c1d-fef6-4e7a-a933-f2dd4637085b",
   "metadata": {
    "tags": []
   },
   "outputs": [],
   "source": [
    "state=[0]\n",
    "for i in range(1,n):\n",
    "    r1=((close_prices[i]-close_prices[i-1])/close_prices[i-1])\n",
    "    if r1>=0.01:\n",
    "        s1=1\n",
    "    elif r1>-0.01 and r1<0.01:\n",
    "        s1=0\n",
    "    else:\n",
    "        s1=-1\n",
    "    state.append(s1)"
   ]
  },
  {
   "cell_type": "code",
   "execution_count": 216,
   "id": "b8c063e0-ae25-4c66-a0c5-2e3c25d63510",
   "metadata": {
    "tags": []
   },
   "outputs": [
    {
     "name": "stdout",
     "output_type": "stream",
     "text": [
      "States For each day (ASSUMING the state of the FIRST DAY is FLAT): \n",
      " [0, 1, -1, 1, 0, 0, 1, 0, 1, 0, 0, 0, 1, 1, 1, 0, 1, 1, -1, 0, 0, 1, 1, -1, 1, -1, 0, 0, 1, 0, 1, -1, 0, -1, 0, 0, -1, 0, 0, -1, 0, 1, 1, -1, 0, -1, -1, 1, 1, 0, 1, 0, 1, 1, 0, 0, 0, -1, 0, 1, 0, 1, 0, 0, -1, 0, -1, 0, 0, 1, 0, 0, 0, 0, 0, 0, 0, 0, 0, 1, 0, 0, 0, 0, 0, 1, 0, 0, 1, 0, 0, 0, 0, 0, 1, 0, 0, -1, 0, 0, 1, 1, 0, 1, 0, 0, 0, 0, 1, 0, 1, 0, 0, 1, 0, 0, 0, 1, 0, 0, 1, 0, 0, 1, 0, 0, 0, 0, -1, 0, 0, 0, 0, 1, 0, 0, -1, 0, 0, 0, 0, 0, 1, 0, 0, -1, 0, -1, -1, 0, 0, 0, 0, 0, -1, 0, -1, 0, 0, 0, 1, -1, 1, 0, 1, 1, 0, 0, 0, -1, -1, 0, 0, -1, -1, 0, 0, 1, 0, -1, 0, 0, 0, -1, 0, 0, 0, 1, 0, 0, 0, 1, 0, 0, 0, 0, -1, 0, 0, 0, 0, -1, 0, 0, -1, -1, 0, 1, 0, 1, 1, 0, 1, 1, 0, 0, 1, 0, 1, 0, 0, 0, 0, 0, 0, 0, 0, 0, 0, 0, 0, 0, 1, 0, 1, 0, -1, 0, 1, 0, 0, 0, 0, -1, 0, 0, 0, 0, 0, 0]\n"
     ]
    }
   ],
   "source": [
    "print(\"States For each day (ASSUMING the state of the FIRST DAY is FLAT): \\n\",state)"
   ]
  },
  {
   "cell_type": "code",
   "execution_count": 217,
   "id": "a9c01411-54d7-46cd-a550-f93d0abe6802",
   "metadata": {
    "tags": []
   },
   "outputs": [
    {
     "name": "stdout",
     "output_type": "stream",
     "text": [
      "TRANSITION PROBABLITIES:-\n",
      "\n",
      "(-1, -1) ; 0.14285714285714285\n",
      "(-1, 0) ; 0.7428571428571429\n",
      "(-1, 1) ; 0.11428571428571428\n",
      "(0, -1) ; 0.14556962025316456\n",
      "(0, 0) ; 0.5949367088607594\n",
      "(0, 1) ; 0.25949367088607594\n",
      "(1, -1) ; 0.125\n",
      "(1, 0) ; 0.6785714285714286\n",
      "(1, 1) ; 0.19642857142857142\n"
     ]
    }
   ],
   "source": [
    "transition_counts = {(prev, nexts): 0 for prev in [-1, 0, 1] for nexts in [-1, 0, 1]}\n",
    "for i in range(1, len(state)):\n",
    "    prev = state[i-1]\n",
    "    nexts = state[i]\n",
    "    transition_counts[(prev, nexts)] += 1\n",
    "    \n",
    "transition_probabilities = {}\n",
    "for (prev_state, next_state), count in transition_counts.items():\n",
    "    total_occurrences = sum(value for key, value in transition_counts.items() if key[0] == prev_state)\n",
    "    probability = count / total_occurrences\n",
    "    transition_probabilities[(prev_state, next_state)] = probability\n",
    "\n",
    "print(\"TRANSITION PROBABLITIES:-\\n\")\n",
    "for i,j in transition_probabilities.items():\n",
    "    print(i,\";\",j)"
   ]
  },
  {
   "cell_type": "code",
   "execution_count": 218,
   "id": "25a3994c-6c2f-4417-baf3-ec4f5ff8f4d1",
   "metadata": {
    "tags": []
   },
   "outputs": [
    {
     "name": "stdout",
     "output_type": "stream",
     "text": [
      "Final Value of V(N):  17\n",
      "\n",
      "\n",
      "\n",
      "Portfolio value Transition:-\n",
      "[[5, 1], [7, 2], [11, 3], [15, 4], [20, 5], [27, 6], [29, 7], [32, 6], [35, 5], [38, 4], [40, 5], [44, 4], [49, 5], [51, 6], [56, 5], [58, 6], [60, 7], [63, 6], [65, 5], [68, 6], [78, 7], [84, 8], [87, 9], [93, 10], [96, 9], [99, 10], [102, 11], [107, 12], [109, 13], [112, 14], [116, 15], [119, 16], [122, 17], [127, 16], [132, 17], [135, 16], [141, 17], [144, 16], [146, 15], [153, 14], [155, 13], [159, 14], [163, 15], [168, 14], [172, 13], [176, 14], [178, 13], [182, 12], [186, 13], [190, 14], [195, 13], [200, 12], [203, 11], [206, 12], [208, 13], [211, 14], [215, 15], [217, 16], [231, 17], [233, 18], [235, 17], [237, 18], [242, 17]]\n"
     ]
    }
   ],
   "source": [
    "v=0\n",
    "vd=[]\n",
    "for i in range(1,n-1):\n",
    "    d=[]\n",
    "    if state[i]==0  and state[i+1]==1:\n",
    "        v+=1\n",
    "    elif state[i]==0 and state[i+1]==-1:\n",
    "        v-=1\n",
    "    else:\n",
    "        continue\n",
    "    d.append(i)\n",
    "    d.append(v)\n",
    "    vd.append(d)\n",
    "\n",
    "print(\"Final Value of V(N): \",v)\n",
    "print(\"\\n\\n\")\n",
    "print(\"Portfolio value Transition:-\")\n",
    "print(vd)"
   ]
  },
  {
   "cell_type": "code",
   "execution_count": 221,
   "id": "d34b4289-894c-4698-80e2-f99037ef37be",
   "metadata": {
    "tags": []
   },
   "outputs": [
    {
     "name": "stdout",
     "output_type": "stream",
     "text": [
      "Optimal Indices:- [5, 7, 11, 15, 20, 27, 29, 84, 87, 93, 102, 107, 109, 112, 116, 119, 122, 233]\n",
      "Maximum Portfolio Value:  18\n"
     ]
    }
   ],
   "source": [
    "max_portfolio=float('-inf')\n",
    "opt=[]\n",
    "opt_index=-1\n",
    "for i in vd:\n",
    "    if i[1]>max_portfolio:\n",
    "        max_portfolio=i[1]\n",
    "        opt.append(i[0])\n",
    "print(\"Optimal Indices:-\",opt)\n",
    "print(\"Maximum Portfolio Value: \",max_portfolio)"
   ]
  }
 ],
 "metadata": {
  "kernelspec": {
   "display_name": "Python 3.9",
   "language": "python",
   "name": "python3"
  },
  "language_info": {
   "codemirror_mode": {
    "name": "ipython",
    "version": 3
   },
   "file_extension": ".py",
   "mimetype": "text/x-python",
   "name": "python",
   "nbconvert_exporter": "python",
   "pygments_lexer": "ipython3",
   "version": "3.9.12"
  }
 },
 "nbformat": 4,
 "nbformat_minor": 5
}
